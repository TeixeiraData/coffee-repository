{
 "cells": [
  {
   "cell_type": "code",
   "execution_count": 3,
   "metadata": {},
   "outputs": [],
   "source": [
    "import pandas as pd\n",
    "import numpy as np\n",
    "import matplotlib.pyplot as plt\n",
    "%matplotlib inline"
   ]
  },
  {
   "cell_type": "code",
   "execution_count": 5,
   "metadata": {},
   "outputs": [],
   "source": [
    "coffee = pd.read_csv(\"coffee.csv\")"
   ]
  },
  {
   "cell_type": "code",
   "execution_count": 6,
   "metadata": {},
   "outputs": [
    {
     "data": {
      "text/html": [
       "<div>\n",
       "<style scoped>\n",
       "    .dataframe tbody tr th:only-of-type {\n",
       "        vertical-align: middle;\n",
       "    }\n",
       "\n",
       "    .dataframe tbody tr th {\n",
       "        vertical-align: top;\n",
       "    }\n",
       "\n",
       "    .dataframe thead th {\n",
       "        text-align: right;\n",
       "    }\n",
       "</style>\n",
       "<table border=\"1\" class=\"dataframe\">\n",
       "  <thead>\n",
       "    <tr style=\"text-align: right;\">\n",
       "      <th></th>\n",
       "      <th>Date</th>\n",
       "      <th>Open</th>\n",
       "      <th>High</th>\n",
       "      <th>Low</th>\n",
       "      <th>Close</th>\n",
       "      <th>Volume</th>\n",
       "      <th>Currency</th>\n",
       "    </tr>\n",
       "  </thead>\n",
       "  <tbody>\n",
       "    <tr>\n",
       "      <th>0</th>\n",
       "      <td>2000-01-03</td>\n",
       "      <td>122.25</td>\n",
       "      <td>124.00</td>\n",
       "      <td>116.10</td>\n",
       "      <td>116.50</td>\n",
       "      <td>6640</td>\n",
       "      <td>USD</td>\n",
       "    </tr>\n",
       "    <tr>\n",
       "      <th>1</th>\n",
       "      <td>2000-01-04</td>\n",
       "      <td>116.25</td>\n",
       "      <td>120.50</td>\n",
       "      <td>115.75</td>\n",
       "      <td>116.25</td>\n",
       "      <td>5492</td>\n",
       "      <td>USD</td>\n",
       "    </tr>\n",
       "    <tr>\n",
       "      <th>2</th>\n",
       "      <td>2000-01-05</td>\n",
       "      <td>115.00</td>\n",
       "      <td>121.00</td>\n",
       "      <td>115.00</td>\n",
       "      <td>118.60</td>\n",
       "      <td>6165</td>\n",
       "      <td>USD</td>\n",
       "    </tr>\n",
       "    <tr>\n",
       "      <th>3</th>\n",
       "      <td>2000-01-06</td>\n",
       "      <td>119.00</td>\n",
       "      <td>121.40</td>\n",
       "      <td>116.50</td>\n",
       "      <td>116.85</td>\n",
       "      <td>5094</td>\n",
       "      <td>USD</td>\n",
       "    </tr>\n",
       "    <tr>\n",
       "      <th>4</th>\n",
       "      <td>2000-01-07</td>\n",
       "      <td>117.25</td>\n",
       "      <td>117.75</td>\n",
       "      <td>113.80</td>\n",
       "      <td>114.15</td>\n",
       "      <td>6855</td>\n",
       "      <td>USD</td>\n",
       "    </tr>\n",
       "    <tr>\n",
       "      <th>...</th>\n",
       "      <td>...</td>\n",
       "      <td>...</td>\n",
       "      <td>...</td>\n",
       "      <td>...</td>\n",
       "      <td>...</td>\n",
       "      <td>...</td>\n",
       "      <td>...</td>\n",
       "    </tr>\n",
       "    <tr>\n",
       "      <th>5678</th>\n",
       "      <td>2022-05-27</td>\n",
       "      <td>225.10</td>\n",
       "      <td>229.90</td>\n",
       "      <td>224.20</td>\n",
       "      <td>229.45</td>\n",
       "      <td>14248</td>\n",
       "      <td>USD</td>\n",
       "    </tr>\n",
       "    <tr>\n",
       "      <th>5679</th>\n",
       "      <td>2022-05-31</td>\n",
       "      <td>228.30</td>\n",
       "      <td>233.80</td>\n",
       "      <td>223.85</td>\n",
       "      <td>231.25</td>\n",
       "      <td>25579</td>\n",
       "      <td>USD</td>\n",
       "    </tr>\n",
       "    <tr>\n",
       "      <th>5680</th>\n",
       "      <td>2022-06-01</td>\n",
       "      <td>232.05</td>\n",
       "      <td>240.65</td>\n",
       "      <td>232.05</td>\n",
       "      <td>239.45</td>\n",
       "      <td>30339</td>\n",
       "      <td>USD</td>\n",
       "    </tr>\n",
       "    <tr>\n",
       "      <th>5681</th>\n",
       "      <td>2022-06-02</td>\n",
       "      <td>239.45</td>\n",
       "      <td>242.00</td>\n",
       "      <td>236.95</td>\n",
       "      <td>238.25</td>\n",
       "      <td>19679</td>\n",
       "      <td>USD</td>\n",
       "    </tr>\n",
       "    <tr>\n",
       "      <th>5682</th>\n",
       "      <td>2022-06-03</td>\n",
       "      <td>236.15</td>\n",
       "      <td>240.00</td>\n",
       "      <td>231.45</td>\n",
       "      <td>232.40</td>\n",
       "      <td>19089</td>\n",
       "      <td>USD</td>\n",
       "    </tr>\n",
       "  </tbody>\n",
       "</table>\n",
       "<p>5683 rows × 7 columns</p>\n",
       "</div>"
      ],
      "text/plain": [
       "            Date    Open    High     Low   Close  Volume Currency\n",
       "0     2000-01-03  122.25  124.00  116.10  116.50    6640      USD\n",
       "1     2000-01-04  116.25  120.50  115.75  116.25    5492      USD\n",
       "2     2000-01-05  115.00  121.00  115.00  118.60    6165      USD\n",
       "3     2000-01-06  119.00  121.40  116.50  116.85    5094      USD\n",
       "4     2000-01-07  117.25  117.75  113.80  114.15    6855      USD\n",
       "...          ...     ...     ...     ...     ...     ...      ...\n",
       "5678  2022-05-27  225.10  229.90  224.20  229.45   14248      USD\n",
       "5679  2022-05-31  228.30  233.80  223.85  231.25   25579      USD\n",
       "5680  2022-06-01  232.05  240.65  232.05  239.45   30339      USD\n",
       "5681  2022-06-02  239.45  242.00  236.95  238.25   19679      USD\n",
       "5682  2022-06-03  236.15  240.00  231.45  232.40   19089      USD\n",
       "\n",
       "[5683 rows x 7 columns]"
      ]
     },
     "execution_count": 6,
     "metadata": {},
     "output_type": "execute_result"
    }
   ],
   "source": [
    "coffee"
   ]
  },
  {
   "cell_type": "code",
   "execution_count": 7,
   "metadata": {},
   "outputs": [
    {
     "data": {
      "text/html": [
       "<div>\n",
       "<style scoped>\n",
       "    .dataframe tbody tr th:only-of-type {\n",
       "        vertical-align: middle;\n",
       "    }\n",
       "\n",
       "    .dataframe tbody tr th {\n",
       "        vertical-align: top;\n",
       "    }\n",
       "\n",
       "    .dataframe thead th {\n",
       "        text-align: right;\n",
       "    }\n",
       "</style>\n",
       "<table border=\"1\" class=\"dataframe\">\n",
       "  <thead>\n",
       "    <tr style=\"text-align: right;\">\n",
       "      <th></th>\n",
       "      <th>Date</th>\n",
       "      <th>Open</th>\n",
       "      <th>High</th>\n",
       "      <th>Low</th>\n",
       "      <th>Close</th>\n",
       "      <th>Volume</th>\n",
       "      <th>Currency</th>\n",
       "    </tr>\n",
       "  </thead>\n",
       "  <tbody>\n",
       "    <tr>\n",
       "      <th>0</th>\n",
       "      <td>2000-01-03</td>\n",
       "      <td>122.25</td>\n",
       "      <td>124.00</td>\n",
       "      <td>116.10</td>\n",
       "      <td>116.50</td>\n",
       "      <td>6640</td>\n",
       "      <td>USD</td>\n",
       "    </tr>\n",
       "    <tr>\n",
       "      <th>1</th>\n",
       "      <td>2000-01-04</td>\n",
       "      <td>116.25</td>\n",
       "      <td>120.50</td>\n",
       "      <td>115.75</td>\n",
       "      <td>116.25</td>\n",
       "      <td>5492</td>\n",
       "      <td>USD</td>\n",
       "    </tr>\n",
       "    <tr>\n",
       "      <th>2</th>\n",
       "      <td>2000-01-05</td>\n",
       "      <td>115.00</td>\n",
       "      <td>121.00</td>\n",
       "      <td>115.00</td>\n",
       "      <td>118.60</td>\n",
       "      <td>6165</td>\n",
       "      <td>USD</td>\n",
       "    </tr>\n",
       "    <tr>\n",
       "      <th>3</th>\n",
       "      <td>2000-01-06</td>\n",
       "      <td>119.00</td>\n",
       "      <td>121.40</td>\n",
       "      <td>116.50</td>\n",
       "      <td>116.85</td>\n",
       "      <td>5094</td>\n",
       "      <td>USD</td>\n",
       "    </tr>\n",
       "    <tr>\n",
       "      <th>4</th>\n",
       "      <td>2000-01-07</td>\n",
       "      <td>117.25</td>\n",
       "      <td>117.75</td>\n",
       "      <td>113.80</td>\n",
       "      <td>114.15</td>\n",
       "      <td>6855</td>\n",
       "      <td>USD</td>\n",
       "    </tr>\n",
       "    <tr>\n",
       "      <th>5</th>\n",
       "      <td>2000-01-10</td>\n",
       "      <td>123.50</td>\n",
       "      <td>126.00</td>\n",
       "      <td>116.70</td>\n",
       "      <td>117.55</td>\n",
       "      <td>7499</td>\n",
       "      <td>USD</td>\n",
       "    </tr>\n",
       "    <tr>\n",
       "      <th>6</th>\n",
       "      <td>2000-01-11</td>\n",
       "      <td>115.50</td>\n",
       "      <td>118.25</td>\n",
       "      <td>115.50</td>\n",
       "      <td>117.80</td>\n",
       "      <td>3976</td>\n",
       "      <td>USD</td>\n",
       "    </tr>\n",
       "    <tr>\n",
       "      <th>7</th>\n",
       "      <td>2000-01-12</td>\n",
       "      <td>117.80</td>\n",
       "      <td>120.50</td>\n",
       "      <td>116.90</td>\n",
       "      <td>118.95</td>\n",
       "      <td>5184</td>\n",
       "      <td>USD</td>\n",
       "    </tr>\n",
       "  </tbody>\n",
       "</table>\n",
       "</div>"
      ],
      "text/plain": [
       "         Date    Open    High     Low   Close  Volume Currency\n",
       "0  2000-01-03  122.25  124.00  116.10  116.50    6640      USD\n",
       "1  2000-01-04  116.25  120.50  115.75  116.25    5492      USD\n",
       "2  2000-01-05  115.00  121.00  115.00  118.60    6165      USD\n",
       "3  2000-01-06  119.00  121.40  116.50  116.85    5094      USD\n",
       "4  2000-01-07  117.25  117.75  113.80  114.15    6855      USD\n",
       "5  2000-01-10  123.50  126.00  116.70  117.55    7499      USD\n",
       "6  2000-01-11  115.50  118.25  115.50  117.80    3976      USD\n",
       "7  2000-01-12  117.80  120.50  116.90  118.95    5184      USD"
      ]
     },
     "execution_count": 7,
     "metadata": {},
     "output_type": "execute_result"
    }
   ],
   "source": [
    "coffee.head(8)"
   ]
  },
  {
   "cell_type": "code",
   "execution_count": 8,
   "metadata": {},
   "outputs": [
    {
     "data": {
      "text/html": [
       "<div>\n",
       "<style scoped>\n",
       "    .dataframe tbody tr th:only-of-type {\n",
       "        vertical-align: middle;\n",
       "    }\n",
       "\n",
       "    .dataframe tbody tr th {\n",
       "        vertical-align: top;\n",
       "    }\n",
       "\n",
       "    .dataframe thead th {\n",
       "        text-align: right;\n",
       "    }\n",
       "</style>\n",
       "<table border=\"1\" class=\"dataframe\">\n",
       "  <thead>\n",
       "    <tr style=\"text-align: right;\">\n",
       "      <th></th>\n",
       "      <th>Date</th>\n",
       "      <th>Open</th>\n",
       "      <th>High</th>\n",
       "      <th>Low</th>\n",
       "      <th>Close</th>\n",
       "      <th>Volume</th>\n",
       "      <th>Currency</th>\n",
       "    </tr>\n",
       "  </thead>\n",
       "  <tbody>\n",
       "    <tr>\n",
       "      <th>5673</th>\n",
       "      <td>2022-05-20</td>\n",
       "      <td>221.90</td>\n",
       "      <td>223.30</td>\n",
       "      <td>214.30</td>\n",
       "      <td>215.85</td>\n",
       "      <td>14559</td>\n",
       "      <td>USD</td>\n",
       "    </tr>\n",
       "    <tr>\n",
       "      <th>5674</th>\n",
       "      <td>2022-05-23</td>\n",
       "      <td>216.85</td>\n",
       "      <td>217.70</td>\n",
       "      <td>214.75</td>\n",
       "      <td>215.75</td>\n",
       "      <td>12024</td>\n",
       "      <td>USD</td>\n",
       "    </tr>\n",
       "    <tr>\n",
       "      <th>5675</th>\n",
       "      <td>2022-05-24</td>\n",
       "      <td>215.25</td>\n",
       "      <td>215.60</td>\n",
       "      <td>211.00</td>\n",
       "      <td>213.65</td>\n",
       "      <td>15176</td>\n",
       "      <td>USD</td>\n",
       "    </tr>\n",
       "    <tr>\n",
       "      <th>5676</th>\n",
       "      <td>2022-05-25</td>\n",
       "      <td>213.20</td>\n",
       "      <td>218.30</td>\n",
       "      <td>212.25</td>\n",
       "      <td>217.05</td>\n",
       "      <td>17428</td>\n",
       "      <td>USD</td>\n",
       "    </tr>\n",
       "    <tr>\n",
       "      <th>5677</th>\n",
       "      <td>2022-05-26</td>\n",
       "      <td>216.85</td>\n",
       "      <td>227.30</td>\n",
       "      <td>216.50</td>\n",
       "      <td>226.60</td>\n",
       "      <td>20949</td>\n",
       "      <td>USD</td>\n",
       "    </tr>\n",
       "    <tr>\n",
       "      <th>5678</th>\n",
       "      <td>2022-05-27</td>\n",
       "      <td>225.10</td>\n",
       "      <td>229.90</td>\n",
       "      <td>224.20</td>\n",
       "      <td>229.45</td>\n",
       "      <td>14248</td>\n",
       "      <td>USD</td>\n",
       "    </tr>\n",
       "    <tr>\n",
       "      <th>5679</th>\n",
       "      <td>2022-05-31</td>\n",
       "      <td>228.30</td>\n",
       "      <td>233.80</td>\n",
       "      <td>223.85</td>\n",
       "      <td>231.25</td>\n",
       "      <td>25579</td>\n",
       "      <td>USD</td>\n",
       "    </tr>\n",
       "    <tr>\n",
       "      <th>5680</th>\n",
       "      <td>2022-06-01</td>\n",
       "      <td>232.05</td>\n",
       "      <td>240.65</td>\n",
       "      <td>232.05</td>\n",
       "      <td>239.45</td>\n",
       "      <td>30339</td>\n",
       "      <td>USD</td>\n",
       "    </tr>\n",
       "    <tr>\n",
       "      <th>5681</th>\n",
       "      <td>2022-06-02</td>\n",
       "      <td>239.45</td>\n",
       "      <td>242.00</td>\n",
       "      <td>236.95</td>\n",
       "      <td>238.25</td>\n",
       "      <td>19679</td>\n",
       "      <td>USD</td>\n",
       "    </tr>\n",
       "    <tr>\n",
       "      <th>5682</th>\n",
       "      <td>2022-06-03</td>\n",
       "      <td>236.15</td>\n",
       "      <td>240.00</td>\n",
       "      <td>231.45</td>\n",
       "      <td>232.40</td>\n",
       "      <td>19089</td>\n",
       "      <td>USD</td>\n",
       "    </tr>\n",
       "  </tbody>\n",
       "</table>\n",
       "</div>"
      ],
      "text/plain": [
       "            Date    Open    High     Low   Close  Volume Currency\n",
       "5673  2022-05-20  221.90  223.30  214.30  215.85   14559      USD\n",
       "5674  2022-05-23  216.85  217.70  214.75  215.75   12024      USD\n",
       "5675  2022-05-24  215.25  215.60  211.00  213.65   15176      USD\n",
       "5676  2022-05-25  213.20  218.30  212.25  217.05   17428      USD\n",
       "5677  2022-05-26  216.85  227.30  216.50  226.60   20949      USD\n",
       "5678  2022-05-27  225.10  229.90  224.20  229.45   14248      USD\n",
       "5679  2022-05-31  228.30  233.80  223.85  231.25   25579      USD\n",
       "5680  2022-06-01  232.05  240.65  232.05  239.45   30339      USD\n",
       "5681  2022-06-02  239.45  242.00  236.95  238.25   19679      USD\n",
       "5682  2022-06-03  236.15  240.00  231.45  232.40   19089      USD"
      ]
     },
     "execution_count": 8,
     "metadata": {},
     "output_type": "execute_result"
    }
   ],
   "source": [
    "coffee.tail(10)"
   ]
  },
  {
   "cell_type": "code",
   "execution_count": 11,
   "metadata": {},
   "outputs": [
    {
     "data": {
      "text/plain": [
       "Date         object\n",
       "Open        float64\n",
       "High        float64\n",
       "Low         float64\n",
       "Close       float64\n",
       "Volume        int64\n",
       "Currency     object\n",
       "dtype: object"
      ]
     },
     "execution_count": 11,
     "metadata": {},
     "output_type": "execute_result"
    }
   ],
   "source": [
    "coffee.dtypes"
   ]
  },
  {
   "cell_type": "code",
   "execution_count": 10,
   "metadata": {},
   "outputs": [
    {
     "name": "stdout",
     "output_type": "stream",
     "text": [
      "<class 'pandas.core.frame.DataFrame'>\n",
      "RangeIndex: 5683 entries, 0 to 5682\n",
      "Data columns (total 7 columns):\n",
      " #   Column    Non-Null Count  Dtype  \n",
      "---  ------    --------------  -----  \n",
      " 0   Date      5683 non-null   object \n",
      " 1   Open      5683 non-null   float64\n",
      " 2   High      5683 non-null   float64\n",
      " 3   Low       5683 non-null   float64\n",
      " 4   Close     5683 non-null   float64\n",
      " 5   Volume    5683 non-null   int64  \n",
      " 6   Currency  5683 non-null   object \n",
      "dtypes: float64(4), int64(1), object(2)\n",
      "memory usage: 310.9+ KB\n"
     ]
    }
   ],
   "source": [
    "coffee.info()"
   ]
  },
  {
   "cell_type": "code",
   "execution_count": 12,
   "metadata": {},
   "outputs": [
    {
     "data": {
      "text/plain": [
       "0    2000-01-03\n",
       "1    2000-01-04\n",
       "2    2000-01-05\n",
       "3    2000-01-06\n",
       "4    2000-01-07\n",
       "Name: Date, dtype: object"
      ]
     },
     "execution_count": 12,
     "metadata": {},
     "output_type": "execute_result"
    }
   ],
   "source": [
    "date = coffee[\"Date\"]\n",
    "date.head()"
   ]
  },
  {
   "cell_type": "code",
   "execution_count": 13,
   "metadata": {},
   "outputs": [
    {
     "data": {
      "text/plain": [
       "pandas.core.series.Series"
      ]
     },
     "execution_count": 13,
     "metadata": {},
     "output_type": "execute_result"
    }
   ],
   "source": [
    "type(coffee[\"Date\"])"
   ]
  },
  {
   "cell_type": "code",
   "execution_count": 14,
   "metadata": {},
   "outputs": [
    {
     "data": {
      "text/html": [
       "<div>\n",
       "<style scoped>\n",
       "    .dataframe tbody tr th:only-of-type {\n",
       "        vertical-align: middle;\n",
       "    }\n",
       "\n",
       "    .dataframe tbody tr th {\n",
       "        vertical-align: top;\n",
       "    }\n",
       "\n",
       "    .dataframe thead th {\n",
       "        text-align: right;\n",
       "    }\n",
       "</style>\n",
       "<table border=\"1\" class=\"dataframe\">\n",
       "  <thead>\n",
       "    <tr style=\"text-align: right;\">\n",
       "      <th></th>\n",
       "      <th>Date</th>\n",
       "      <th>Volume</th>\n",
       "    </tr>\n",
       "  </thead>\n",
       "  <tbody>\n",
       "    <tr>\n",
       "      <th>0</th>\n",
       "      <td>2000-01-03</td>\n",
       "      <td>6640</td>\n",
       "    </tr>\n",
       "    <tr>\n",
       "      <th>1</th>\n",
       "      <td>2000-01-04</td>\n",
       "      <td>5492</td>\n",
       "    </tr>\n",
       "    <tr>\n",
       "      <th>2</th>\n",
       "      <td>2000-01-05</td>\n",
       "      <td>6165</td>\n",
       "    </tr>\n",
       "    <tr>\n",
       "      <th>3</th>\n",
       "      <td>2000-01-06</td>\n",
       "      <td>5094</td>\n",
       "    </tr>\n",
       "    <tr>\n",
       "      <th>4</th>\n",
       "      <td>2000-01-07</td>\n",
       "      <td>6855</td>\n",
       "    </tr>\n",
       "  </tbody>\n",
       "</table>\n",
       "</div>"
      ],
      "text/plain": [
       "         Date  Volume\n",
       "0  2000-01-03    6640\n",
       "1  2000-01-04    5492\n",
       "2  2000-01-05    6165\n",
       "3  2000-01-06    5094\n",
       "4  2000-01-07    6855"
      ]
     },
     "execution_count": 14,
     "metadata": {},
     "output_type": "execute_result"
    }
   ],
   "source": [
    "date_vol = coffee[[\"Date\",\"Volume\"]]\n",
    "date_vol.head()"
   ]
  },
  {
   "cell_type": "code",
   "execution_count": 15,
   "metadata": {},
   "outputs": [
    {
     "data": {
      "text/plain": [
       "pandas.core.frame.DataFrame"
      ]
     },
     "execution_count": 15,
     "metadata": {},
     "output_type": "execute_result"
    }
   ],
   "source": [
    "type(coffee[[\"Date\",\"Volume\"]])"
   ]
  },
  {
   "cell_type": "code",
   "execution_count": 16,
   "metadata": {},
   "outputs": [
    {
     "data": {
      "text/plain": [
       "(5683, 2)"
      ]
     },
     "execution_count": 16,
     "metadata": {},
     "output_type": "execute_result"
    }
   ],
   "source": [
    "coffee[[\"Date\",\"Volume\"]].shape"
   ]
  },
  {
   "cell_type": "code",
   "execution_count": 17,
   "metadata": {},
   "outputs": [
    {
     "data": {
      "text/html": [
       "<div>\n",
       "<style scoped>\n",
       "    .dataframe tbody tr th:only-of-type {\n",
       "        vertical-align: middle;\n",
       "    }\n",
       "\n",
       "    .dataframe tbody tr th {\n",
       "        vertical-align: top;\n",
       "    }\n",
       "\n",
       "    .dataframe thead th {\n",
       "        text-align: right;\n",
       "    }\n",
       "</style>\n",
       "<table border=\"1\" class=\"dataframe\">\n",
       "  <thead>\n",
       "    <tr style=\"text-align: right;\">\n",
       "      <th></th>\n",
       "      <th>Date</th>\n",
       "      <th>Open</th>\n",
       "      <th>High</th>\n",
       "      <th>Low</th>\n",
       "      <th>Close</th>\n",
       "      <th>Volume</th>\n",
       "      <th>Currency</th>\n",
       "    </tr>\n",
       "  </thead>\n",
       "  <tbody>\n",
       "    <tr>\n",
       "      <th>0</th>\n",
       "      <td>2000-01-03</td>\n",
       "      <td>122.25</td>\n",
       "      <td>124.00</td>\n",
       "      <td>116.10</td>\n",
       "      <td>116.50</td>\n",
       "      <td>6640</td>\n",
       "      <td>USD</td>\n",
       "    </tr>\n",
       "    <tr>\n",
       "      <th>1</th>\n",
       "      <td>2000-01-04</td>\n",
       "      <td>116.25</td>\n",
       "      <td>120.50</td>\n",
       "      <td>115.75</td>\n",
       "      <td>116.25</td>\n",
       "      <td>5492</td>\n",
       "      <td>USD</td>\n",
       "    </tr>\n",
       "    <tr>\n",
       "      <th>2</th>\n",
       "      <td>2000-01-05</td>\n",
       "      <td>115.00</td>\n",
       "      <td>121.00</td>\n",
       "      <td>115.00</td>\n",
       "      <td>118.60</td>\n",
       "      <td>6165</td>\n",
       "      <td>USD</td>\n",
       "    </tr>\n",
       "    <tr>\n",
       "      <th>3</th>\n",
       "      <td>2000-01-06</td>\n",
       "      <td>119.00</td>\n",
       "      <td>121.40</td>\n",
       "      <td>116.50</td>\n",
       "      <td>116.85</td>\n",
       "      <td>5094</td>\n",
       "      <td>USD</td>\n",
       "    </tr>\n",
       "    <tr>\n",
       "      <th>4</th>\n",
       "      <td>2000-01-07</td>\n",
       "      <td>117.25</td>\n",
       "      <td>117.75</td>\n",
       "      <td>113.80</td>\n",
       "      <td>114.15</td>\n",
       "      <td>6855</td>\n",
       "      <td>USD</td>\n",
       "    </tr>\n",
       "  </tbody>\n",
       "</table>\n",
       "</div>"
      ],
      "text/plain": [
       "         Date    Open    High     Low   Close  Volume Currency\n",
       "0  2000-01-03  122.25  124.00  116.10  116.50    6640      USD\n",
       "1  2000-01-04  116.25  120.50  115.75  116.25    5492      USD\n",
       "2  2000-01-05  115.00  121.00  115.00  118.60    6165      USD\n",
       "3  2000-01-06  119.00  121.40  116.50  116.85    5094      USD\n",
       "4  2000-01-07  117.25  117.75  113.80  114.15    6855      USD"
      ]
     },
     "execution_count": 17,
     "metadata": {},
     "output_type": "execute_result"
    }
   ],
   "source": [
    "coffee_6k = coffee[coffee[\"Volume\"] < 6000 ]\n",
    "coffee.head()"
   ]
  },
  {
   "cell_type": "code",
   "execution_count": 18,
   "metadata": {},
   "outputs": [
    {
     "data": {
      "text/plain": [
       "(2686, 7)"
      ]
     },
     "execution_count": 18,
     "metadata": {},
     "output_type": "execute_result"
    }
   ],
   "source": [
    "coffee_6k.shape"
   ]
  },
  {
   "cell_type": "code",
   "execution_count": 19,
   "metadata": {},
   "outputs": [
    {
     "data": {
      "text/html": [
       "<div>\n",
       "<style scoped>\n",
       "    .dataframe tbody tr th:only-of-type {\n",
       "        vertical-align: middle;\n",
       "    }\n",
       "\n",
       "    .dataframe tbody tr th {\n",
       "        vertical-align: top;\n",
       "    }\n",
       "\n",
       "    .dataframe thead th {\n",
       "        text-align: right;\n",
       "    }\n",
       "</style>\n",
       "<table border=\"1\" class=\"dataframe\">\n",
       "  <thead>\n",
       "    <tr style=\"text-align: right;\">\n",
       "      <th></th>\n",
       "      <th>Date</th>\n",
       "      <th>Open</th>\n",
       "      <th>High</th>\n",
       "      <th>Low</th>\n",
       "      <th>Close</th>\n",
       "      <th>Volume</th>\n",
       "      <th>Currency</th>\n",
       "    </tr>\n",
       "  </thead>\n",
       "  <tbody>\n",
       "    <tr>\n",
       "      <th>0</th>\n",
       "      <td>2000-01-03</td>\n",
       "      <td>122.25</td>\n",
       "      <td>124.00</td>\n",
       "      <td>116.10</td>\n",
       "      <td>116.50</td>\n",
       "      <td>6640</td>\n",
       "      <td>USD</td>\n",
       "    </tr>\n",
       "    <tr>\n",
       "      <th>1</th>\n",
       "      <td>2000-01-04</td>\n",
       "      <td>116.25</td>\n",
       "      <td>120.50</td>\n",
       "      <td>115.75</td>\n",
       "      <td>116.25</td>\n",
       "      <td>5492</td>\n",
       "      <td>USD</td>\n",
       "    </tr>\n",
       "    <tr>\n",
       "      <th>1764</th>\n",
       "      <td>2007-02-05</td>\n",
       "      <td>118.10</td>\n",
       "      <td>118.35</td>\n",
       "      <td>116.10</td>\n",
       "      <td>116.60</td>\n",
       "      <td>9849</td>\n",
       "      <td>USD</td>\n",
       "    </tr>\n",
       "    <tr>\n",
       "      <th>3473</th>\n",
       "      <td>2013-09-12</td>\n",
       "      <td>115.75</td>\n",
       "      <td>116.10</td>\n",
       "      <td>115.75</td>\n",
       "      <td>116.25</td>\n",
       "      <td>28</td>\n",
       "      <td>USD</td>\n",
       "    </tr>\n",
       "    <tr>\n",
       "      <th>4029</th>\n",
       "      <td>2015-11-10</td>\n",
       "      <td>118.25</td>\n",
       "      <td>118.55</td>\n",
       "      <td>115.75</td>\n",
       "      <td>116.30</td>\n",
       "      <td>29811</td>\n",
       "      <td>USD</td>\n",
       "    </tr>\n",
       "  </tbody>\n",
       "</table>\n",
       "</div>"
      ],
      "text/plain": [
       "            Date    Open    High     Low   Close  Volume Currency\n",
       "0     2000-01-03  122.25  124.00  116.10  116.50    6640      USD\n",
       "1     2000-01-04  116.25  120.50  115.75  116.25    5492      USD\n",
       "1764  2007-02-05  118.10  118.35  116.10  116.60    9849      USD\n",
       "3473  2013-09-12  115.75  116.10  115.75  116.25      28      USD\n",
       "4029  2015-11-10  118.25  118.55  115.75  116.30   29811      USD"
      ]
     },
     "execution_count": 19,
     "metadata": {},
     "output_type": "execute_result"
    }
   ],
   "source": [
    "coffee_low = coffee[coffee[\"Low\"].isin([116.10, 115.75])]\n",
    "coffee_low.head()"
   ]
  },
  {
   "cell_type": "code",
   "execution_count": 20,
   "metadata": {},
   "outputs": [
    {
     "data": {
      "text/plain": [
       "(9, 7)"
      ]
     },
     "execution_count": 20,
     "metadata": {},
     "output_type": "execute_result"
    }
   ],
   "source": [
    "coffee_low.shape"
   ]
  },
  {
   "cell_type": "code",
   "execution_count": 21,
   "metadata": {},
   "outputs": [
    {
     "data": {
      "text/html": [
       "<div>\n",
       "<style scoped>\n",
       "    .dataframe tbody tr th:only-of-type {\n",
       "        vertical-align: middle;\n",
       "    }\n",
       "\n",
       "    .dataframe tbody tr th {\n",
       "        vertical-align: top;\n",
       "    }\n",
       "\n",
       "    .dataframe thead th {\n",
       "        text-align: right;\n",
       "    }\n",
       "</style>\n",
       "<table border=\"1\" class=\"dataframe\">\n",
       "  <thead>\n",
       "    <tr style=\"text-align: right;\">\n",
       "      <th></th>\n",
       "      <th>Date</th>\n",
       "      <th>Open</th>\n",
       "      <th>High</th>\n",
       "      <th>Low</th>\n",
       "      <th>Close</th>\n",
       "      <th>Volume</th>\n",
       "      <th>Currency</th>\n",
       "    </tr>\n",
       "  </thead>\n",
       "  <tbody>\n",
       "    <tr>\n",
       "      <th>0</th>\n",
       "      <td>2000-01-03</td>\n",
       "      <td>122.25</td>\n",
       "      <td>124.00</td>\n",
       "      <td>116.10</td>\n",
       "      <td>116.50</td>\n",
       "      <td>6640</td>\n",
       "      <td>USD</td>\n",
       "    </tr>\n",
       "    <tr>\n",
       "      <th>1</th>\n",
       "      <td>2000-01-04</td>\n",
       "      <td>116.25</td>\n",
       "      <td>120.50</td>\n",
       "      <td>115.75</td>\n",
       "      <td>116.25</td>\n",
       "      <td>5492</td>\n",
       "      <td>USD</td>\n",
       "    </tr>\n",
       "    <tr>\n",
       "      <th>2</th>\n",
       "      <td>2000-01-05</td>\n",
       "      <td>115.00</td>\n",
       "      <td>121.00</td>\n",
       "      <td>115.00</td>\n",
       "      <td>118.60</td>\n",
       "      <td>6165</td>\n",
       "      <td>USD</td>\n",
       "    </tr>\n",
       "    <tr>\n",
       "      <th>3</th>\n",
       "      <td>2000-01-06</td>\n",
       "      <td>119.00</td>\n",
       "      <td>121.40</td>\n",
       "      <td>116.50</td>\n",
       "      <td>116.85</td>\n",
       "      <td>5094</td>\n",
       "      <td>USD</td>\n",
       "    </tr>\n",
       "    <tr>\n",
       "      <th>4</th>\n",
       "      <td>2000-01-07</td>\n",
       "      <td>117.25</td>\n",
       "      <td>117.75</td>\n",
       "      <td>113.80</td>\n",
       "      <td>114.15</td>\n",
       "      <td>6855</td>\n",
       "      <td>USD</td>\n",
       "    </tr>\n",
       "  </tbody>\n",
       "</table>\n",
       "</div>"
      ],
      "text/plain": [
       "         Date    Open    High     Low   Close  Volume Currency\n",
       "0  2000-01-03  122.25  124.00  116.10  116.50    6640      USD\n",
       "1  2000-01-04  116.25  120.50  115.75  116.25    5492      USD\n",
       "2  2000-01-05  115.00  121.00  115.00  118.60    6165      USD\n",
       "3  2000-01-06  119.00  121.40  116.50  116.85    5094      USD\n",
       "4  2000-01-07  117.25  117.75  113.80  114.15    6855      USD"
      ]
     },
     "execution_count": 21,
     "metadata": {},
     "output_type": "execute_result"
    }
   ],
   "source": [
    "coffee_no_na = coffee[coffee[\"Open\"].notna()]\n",
    "coffee_no_na.head()"
   ]
  },
  {
   "cell_type": "code",
   "execution_count": 22,
   "metadata": {},
   "outputs": [
    {
     "data": {
      "text/plain": [
       "(5683, 7)"
      ]
     },
     "execution_count": 22,
     "metadata": {},
     "output_type": "execute_result"
    }
   ],
   "source": [
    "coffee_no_na.shape"
   ]
  },
  {
   "cell_type": "code",
   "execution_count": 26,
   "metadata": {},
   "outputs": [
    {
     "data": {
      "text/plain": [
       "0       6640\n",
       "5       7499\n",
       "1277    1008\n",
       "1284     134\n",
       "1285     281\n",
       "Name: Volume, dtype: int64"
      ]
     },
     "execution_count": 26,
     "metadata": {},
     "output_type": "execute_result"
    }
   ],
   "source": [
    "open_volume = coffee.loc[coffee[\"Open\"] > 122, \"Volume\"]\n",
    "open_volume.head() "
   ]
  },
  {
   "cell_type": "code",
   "execution_count": 27,
   "metadata": {},
   "outputs": [
    {
     "data": {
      "text/html": [
       "<div>\n",
       "<style scoped>\n",
       "    .dataframe tbody tr th:only-of-type {\n",
       "        vertical-align: middle;\n",
       "    }\n",
       "\n",
       "    .dataframe tbody tr th {\n",
       "        vertical-align: top;\n",
       "    }\n",
       "\n",
       "    .dataframe thead th {\n",
       "        text-align: right;\n",
       "    }\n",
       "</style>\n",
       "<table border=\"1\" class=\"dataframe\">\n",
       "  <thead>\n",
       "    <tr style=\"text-align: right;\">\n",
       "      <th></th>\n",
       "      <th>High</th>\n",
       "      <th>Low</th>\n",
       "      <th>Close</th>\n",
       "    </tr>\n",
       "  </thead>\n",
       "  <tbody>\n",
       "    <tr>\n",
       "      <th>9</th>\n",
       "      <td>120.25</td>\n",
       "      <td>112.25</td>\n",
       "      <td>112.55</td>\n",
       "    </tr>\n",
       "    <tr>\n",
       "      <th>10</th>\n",
       "      <td>118.25</td>\n",
       "      <td>110.60</td>\n",
       "      <td>115.75</td>\n",
       "    </tr>\n",
       "    <tr>\n",
       "      <th>11</th>\n",
       "      <td>118.25</td>\n",
       "      <td>114.75</td>\n",
       "      <td>116.70</td>\n",
       "    </tr>\n",
       "    <tr>\n",
       "      <th>12</th>\n",
       "      <td>118.80</td>\n",
       "      <td>111.70</td>\n",
       "      <td>112.00</td>\n",
       "    </tr>\n",
       "    <tr>\n",
       "      <th>13</th>\n",
       "      <td>113.50</td>\n",
       "      <td>110.80</td>\n",
       "      <td>111.20</td>\n",
       "    </tr>\n",
       "  </tbody>\n",
       "</table>\n",
       "</div>"
      ],
      "text/plain": [
       "      High     Low   Close\n",
       "9   120.25  112.25  112.55\n",
       "10  118.25  110.60  115.75\n",
       "11  118.25  114.75  116.70\n",
       "12  118.80  111.70  112.00\n",
       "13  113.50  110.80  111.20"
      ]
     },
     "execution_count": 27,
     "metadata": {},
     "output_type": "execute_result"
    }
   ],
   "source": [
    "row_col = coffee.iloc[9:25, 2:5]\n",
    "row_col.head()"
   ]
  },
  {
   "cell_type": "code",
   "execution_count": 43,
   "metadata": {},
   "outputs": [
    {
     "data": {
      "text/html": [
       "<div>\n",
       "<style scoped>\n",
       "    .dataframe tbody tr th:only-of-type {\n",
       "        vertical-align: middle;\n",
       "    }\n",
       "\n",
       "    .dataframe tbody tr th {\n",
       "        vertical-align: top;\n",
       "    }\n",
       "\n",
       "    .dataframe thead th {\n",
       "        text-align: right;\n",
       "    }\n",
       "</style>\n",
       "<table border=\"1\" class=\"dataframe\">\n",
       "  <thead>\n",
       "    <tr style=\"text-align: right;\">\n",
       "      <th></th>\n",
       "      <th>Date</th>\n",
       "      <th>Open</th>\n",
       "    </tr>\n",
       "  </thead>\n",
       "  <tbody>\n",
       "    <tr>\n",
       "      <th>0</th>\n",
       "      <td>2000-01-03</td>\n",
       "      <td>122.25</td>\n",
       "    </tr>\n",
       "    <tr>\n",
       "      <th>1</th>\n",
       "      <td>2000-01-04</td>\n",
       "      <td>116.25</td>\n",
       "    </tr>\n",
       "    <tr>\n",
       "      <th>2</th>\n",
       "      <td>2000-01-05</td>\n",
       "      <td>115.00</td>\n",
       "    </tr>\n",
       "    <tr>\n",
       "      <th>3</th>\n",
       "      <td>2000-01-06</td>\n",
       "      <td>119.00</td>\n",
       "    </tr>\n",
       "    <tr>\n",
       "      <th>4</th>\n",
       "      <td>2000-01-07</td>\n",
       "      <td>117.25</td>\n",
       "    </tr>\n",
       "  </tbody>\n",
       "</table>\n",
       "</div>"
      ],
      "text/plain": [
       "         Date    Open\n",
       "0  2000-01-03  122.25\n",
       "1  2000-01-04  116.25\n",
       "2  2000-01-05  115.00\n",
       "3  2000-01-06  119.00\n",
       "4  2000-01-07  117.25"
      ]
     },
     "execution_count": 43,
     "metadata": {},
     "output_type": "execute_result"
    }
   ],
   "source": [
    "coffee_plot = coffee[[\"Date\",\"Open\"]]\n",
    "coffee_plot.head()"
   ]
  },
  {
   "cell_type": "code",
   "execution_count": 44,
   "metadata": {},
   "outputs": [
    {
     "data": {
      "text/plain": [
       "<AxesSubplot:>"
      ]
     },
     "execution_count": 44,
     "metadata": {},
     "output_type": "execute_result"
    },
    {
     "data": {
      "image/png": "[encoded data removed]",
      "text/plain": [
       "<Figure size 432x288 with 1 Axes>"
      ]
     },
     "metadata": {
      "needs_background": "light"
     },
     "output_type": "display_data"
    }
   ],
   "source": [
    "coffee_plot.plot()"
   ]
  },
  {
   "cell_type": "code",
   "execution_count": 46,
   "metadata": {},
   "outputs": [
    {
     "data": {
      "text/html": [
       "<div>\n",
       "<style scoped>\n",
       "    .dataframe tbody tr th:only-of-type {\n",
       "        vertical-align: middle;\n",
       "    }\n",
       "\n",
       "    .dataframe tbody tr th {\n",
       "        vertical-align: top;\n",
       "    }\n",
       "\n",
       "    .dataframe thead th {\n",
       "        text-align: right;\n",
       "    }\n",
       "</style>\n",
       "<table border=\"1\" class=\"dataframe\">\n",
       "  <thead>\n",
       "    <tr style=\"text-align: right;\">\n",
       "      <th></th>\n",
       "      <th>Close</th>\n",
       "      <th>Volume</th>\n",
       "    </tr>\n",
       "  </thead>\n",
       "  <tbody>\n",
       "    <tr>\n",
       "      <th>0</th>\n",
       "      <td>116.50</td>\n",
       "      <td>6640</td>\n",
       "    </tr>\n",
       "    <tr>\n",
       "      <th>1</th>\n",
       "      <td>116.25</td>\n",
       "      <td>5492</td>\n",
       "    </tr>\n",
       "    <tr>\n",
       "      <th>2</th>\n",
       "      <td>118.60</td>\n",
       "      <td>6165</td>\n",
       "    </tr>\n",
       "    <tr>\n",
       "      <th>3</th>\n",
       "      <td>116.85</td>\n",
       "      <td>5094</td>\n",
       "    </tr>\n",
       "    <tr>\n",
       "      <th>4</th>\n",
       "      <td>114.15</td>\n",
       "      <td>6855</td>\n",
       "    </tr>\n",
       "  </tbody>\n",
       "</table>\n",
       "</div>"
      ],
      "text/plain": [
       "    Close  Volume\n",
       "0  116.50    6640\n",
       "1  116.25    5492\n",
       "2  118.60    6165\n",
       "3  116.85    5094\n",
       "4  114.15    6855"
      ]
     },
     "execution_count": 46,
     "metadata": {},
     "output_type": "execute_result"
    }
   ],
   "source": [
    "coffee_vol = coffee[[\"Close\",\"Volume\"]]\n",
    "coffee_vol.head()"
   ]
  },
  {
   "cell_type": "code",
   "execution_count": 49,
   "metadata": {},
   "outputs": [
    {
     "data": {
      "text/plain": [
       "<AxesSubplot:xlabel='Close', ylabel='Volume'>"
      ]
     },
     "execution_count": 49,
     "metadata": {},
     "output_type": "execute_result"
    },
    {
     "data": {
      "image/png": "[encoded data removed]",
      "text/plain": [
       "<Figure size 432x288 with 1 Axes>"
      ]
     },
     "metadata": {
      "needs_background": "light"
     },
     "output_type": "display_data"
    }
   ],
   "source": [
    "coffee_vol.plot.scatter(x=\"Close\", y=\"Volume\", alpha=0.5)"
   ]
  },
  {
   "cell_type": "code",
   "execution_count": 54,
   "metadata": {},
   "outputs": [
    {
     "data": {
      "text/html": [
       "<div>\n",
       "<style scoped>\n",
       "    .dataframe tbody tr th:only-of-type {\n",
       "        vertical-align: middle;\n",
       "    }\n",
       "\n",
       "    .dataframe tbody tr th {\n",
       "        vertical-align: top;\n",
       "    }\n",
       "\n",
       "    .dataframe thead th {\n",
       "        text-align: right;\n",
       "    }\n",
       "</style>\n",
       "<table border=\"1\" class=\"dataframe\">\n",
       "  <thead>\n",
       "    <tr style=\"text-align: right;\">\n",
       "      <th></th>\n",
       "      <th>Open</th>\n",
       "      <th>High</th>\n",
       "      <th>Close</th>\n",
       "    </tr>\n",
       "  </thead>\n",
       "  <tbody>\n",
       "    <tr>\n",
       "      <th>0</th>\n",
       "      <td>122.25</td>\n",
       "      <td>124.00</td>\n",
       "      <td>116.50</td>\n",
       "    </tr>\n",
       "    <tr>\n",
       "      <th>1</th>\n",
       "      <td>116.25</td>\n",
       "      <td>120.50</td>\n",
       "      <td>116.25</td>\n",
       "    </tr>\n",
       "    <tr>\n",
       "      <th>2</th>\n",
       "      <td>115.00</td>\n",
       "      <td>121.00</td>\n",
       "      <td>118.60</td>\n",
       "    </tr>\n",
       "    <tr>\n",
       "      <th>3</th>\n",
       "      <td>119.00</td>\n",
       "      <td>121.40</td>\n",
       "      <td>116.85</td>\n",
       "    </tr>\n",
       "    <tr>\n",
       "      <th>4</th>\n",
       "      <td>117.25</td>\n",
       "      <td>117.75</td>\n",
       "      <td>114.15</td>\n",
       "    </tr>\n",
       "  </tbody>\n",
       "</table>\n",
       "</div>"
      ],
      "text/plain": [
       "     Open    High   Close\n",
       "0  122.25  124.00  116.50\n",
       "1  116.25  120.50  116.25\n",
       "2  115.00  121.00  118.60\n",
       "3  119.00  121.40  116.85\n",
       "4  117.25  117.75  114.15"
      ]
     },
     "execution_count": 54,
     "metadata": {},
     "output_type": "execute_result"
    }
   ],
   "source": [
    "coffee_mov = coffee[[\"Date\",\"Open\",\"High\",\"Close\"]]\n",
    "coffee_mov.head()"
   ]
  },
  {
   "cell_type": "code",
   "execution_count": 56,
   "metadata": {},
   "outputs": [
    {
     "data": {
      "text/plain": [
       "array([<AxesSubplot:>, <AxesSubplot:>, <AxesSubplot:>], dtype=object)"
      ]
     },
     "execution_count": 56,
     "metadata": {},
     "output_type": "execute_result"
    },
    {
     "data": {
      "image/png": "[encoded data removed]",
      "text/plain": [
       "<Figure size 864x288 with 3 Axes>"
      ]
     },
     "metadata": {
      "needs_background": "light"
     },
     "output_type": "display_data"
    }
   ],
   "source": [
    "coffee_mov.plot.area(figsize=(12, 4), subplots=True)"
   ]
  },
  {
   "cell_type": "code",
   "execution_count": 62,
   "metadata": {},
   "outputs": [
    {
     "data": {
      "text/html": [
       "<div>\n",
       "<style scoped>\n",
       "    .dataframe tbody tr th:only-of-type {\n",
       "        vertical-align: middle;\n",
       "    }\n",
       "\n",
       "    .dataframe tbody tr th {\n",
       "        vertical-align: top;\n",
       "    }\n",
       "\n",
       "    .dataframe thead th {\n",
       "        text-align: right;\n",
       "    }\n",
       "</style>\n",
       "<table border=\"1\" class=\"dataframe\">\n",
       "  <thead>\n",
       "    <tr style=\"text-align: right;\">\n",
       "      <th></th>\n",
       "      <th>Date</th>\n",
       "      <th>Open</th>\n",
       "      <th>High</th>\n",
       "      <th>Low</th>\n",
       "      <th>Close</th>\n",
       "      <th>Volume</th>\n",
       "      <th>Currency</th>\n",
       "      <th>avg</th>\n",
       "      <th>div</th>\n",
       "      <th>dif</th>\n",
       "    </tr>\n",
       "  </thead>\n",
       "  <tbody>\n",
       "    <tr>\n",
       "      <th>0</th>\n",
       "      <td>2000-01-03</td>\n",
       "      <td>122.25</td>\n",
       "      <td>124.00</td>\n",
       "      <td>116.1</td>\n",
       "      <td>116.50</td>\n",
       "      <td>6640</td>\n",
       "      <td>USD</td>\n",
       "      <td>62.000</td>\n",
       "      <td>5.75</td>\n",
       "      <td>5.75</td>\n",
       "    </tr>\n",
       "    <tr>\n",
       "      <th>1</th>\n",
       "      <td>2000-01-04</td>\n",
       "      <td>116.25</td>\n",
       "      <td>120.50</td>\n",
       "      <td>115.75</td>\n",
       "      <td>116.25</td>\n",
       "      <td>5492</td>\n",
       "      <td>USD</td>\n",
       "      <td>60.250</td>\n",
       "      <td>0.00</td>\n",
       "      <td>0.00</td>\n",
       "    </tr>\n",
       "    <tr>\n",
       "      <th>2</th>\n",
       "      <td>2000-01-05</td>\n",
       "      <td>115.00</td>\n",
       "      <td>121.00</td>\n",
       "      <td>115.0</td>\n",
       "      <td>118.60</td>\n",
       "      <td>6165</td>\n",
       "      <td>USD</td>\n",
       "      <td>60.500</td>\n",
       "      <td>-3.60</td>\n",
       "      <td>-3.60</td>\n",
       "    </tr>\n",
       "    <tr>\n",
       "      <th>3</th>\n",
       "      <td>2000-01-06</td>\n",
       "      <td>119.00</td>\n",
       "      <td>121.40</td>\n",
       "      <td>116.5</td>\n",
       "      <td>116.85</td>\n",
       "      <td>5094</td>\n",
       "      <td>USD</td>\n",
       "      <td>60.700</td>\n",
       "      <td>2.15</td>\n",
       "      <td>2.15</td>\n",
       "    </tr>\n",
       "    <tr>\n",
       "      <th>4</th>\n",
       "      <td>2000-01-07</td>\n",
       "      <td>117.25</td>\n",
       "      <td>117.75</td>\n",
       "      <td>113.8</td>\n",
       "      <td>114.15</td>\n",
       "      <td>6855</td>\n",
       "      <td>USD</td>\n",
       "      <td>58.875</td>\n",
       "      <td>3.10</td>\n",
       "      <td>3.10</td>\n",
       "    </tr>\n",
       "  </tbody>\n",
       "</table>\n",
       "</div>"
      ],
      "text/plain": [
       "         Date    Open    High     Low   Close  Volume Currency     avg   div  \\\n",
       "0  2000-01-03  122.25  124.00   116.1  116.50    6640      USD  62.000  5.75   \n",
       "1  2000-01-04  116.25  120.50  115.75  116.25    5492      USD  60.250  0.00   \n",
       "2  2000-01-05  115.00  121.00   115.0  118.60    6165      USD  60.500 -3.60   \n",
       "3  2000-01-06  119.00  121.40   116.5  116.85    5094      USD  60.700  2.15   \n",
       "4  2000-01-07  117.25  117.75   113.8  114.15    6855      USD  58.875  3.10   \n",
       "\n",
       "    dif  \n",
       "0  5.75  \n",
       "1  0.00  \n",
       "2 -3.60  \n",
       "3  2.15  \n",
       "4  3.10  "
      ]
     },
     "execution_count": 62,
     "metadata": {},
     "output_type": "execute_result"
    }
   ],
   "source": [
    "coffee[\"avg\"] = coffee[\"High\"] / 2\n",
    "coffee.head()"
   ]
  },
  {
   "cell_type": "code",
   "execution_count": 63,
   "metadata": {},
   "outputs": [
    {
     "data": {
      "text/html": [
       "<div>\n",
       "<style scoped>\n",
       "    .dataframe tbody tr th:only-of-type {\n",
       "        vertical-align: middle;\n",
       "    }\n",
       "\n",
       "    .dataframe tbody tr th {\n",
       "        vertical-align: top;\n",
       "    }\n",
       "\n",
       "    .dataframe thead th {\n",
       "        text-align: right;\n",
       "    }\n",
       "</style>\n",
       "<table border=\"1\" class=\"dataframe\">\n",
       "  <thead>\n",
       "    <tr style=\"text-align: right;\">\n",
       "      <th></th>\n",
       "      <th>Date</th>\n",
       "      <th>Open</th>\n",
       "      <th>High</th>\n",
       "      <th>Low</th>\n",
       "      <th>Close</th>\n",
       "      <th>Volume</th>\n",
       "      <th>Currency</th>\n",
       "      <th>avg</th>\n",
       "      <th>div</th>\n",
       "      <th>dif</th>\n",
       "    </tr>\n",
       "  </thead>\n",
       "  <tbody>\n",
       "    <tr>\n",
       "      <th>0</th>\n",
       "      <td>2000-01-03</td>\n",
       "      <td>122.25</td>\n",
       "      <td>124.00</td>\n",
       "      <td>116.1</td>\n",
       "      <td>116.50</td>\n",
       "      <td>6640</td>\n",
       "      <td>USD</td>\n",
       "      <td>62.000</td>\n",
       "      <td>5.75</td>\n",
       "      <td>5.75</td>\n",
       "    </tr>\n",
       "    <tr>\n",
       "      <th>1</th>\n",
       "      <td>2000-01-04</td>\n",
       "      <td>116.25</td>\n",
       "      <td>120.50</td>\n",
       "      <td>115.75</td>\n",
       "      <td>116.25</td>\n",
       "      <td>5492</td>\n",
       "      <td>USD</td>\n",
       "      <td>60.250</td>\n",
       "      <td>0.00</td>\n",
       "      <td>0.00</td>\n",
       "    </tr>\n",
       "    <tr>\n",
       "      <th>2</th>\n",
       "      <td>2000-01-05</td>\n",
       "      <td>115.00</td>\n",
       "      <td>121.00</td>\n",
       "      <td>115.0</td>\n",
       "      <td>118.60</td>\n",
       "      <td>6165</td>\n",
       "      <td>USD</td>\n",
       "      <td>60.500</td>\n",
       "      <td>-3.60</td>\n",
       "      <td>-3.60</td>\n",
       "    </tr>\n",
       "    <tr>\n",
       "      <th>3</th>\n",
       "      <td>2000-01-06</td>\n",
       "      <td>119.00</td>\n",
       "      <td>121.40</td>\n",
       "      <td>116.5</td>\n",
       "      <td>116.85</td>\n",
       "      <td>5094</td>\n",
       "      <td>USD</td>\n",
       "      <td>60.700</td>\n",
       "      <td>2.15</td>\n",
       "      <td>2.15</td>\n",
       "    </tr>\n",
       "    <tr>\n",
       "      <th>4</th>\n",
       "      <td>2000-01-07</td>\n",
       "      <td>117.25</td>\n",
       "      <td>117.75</td>\n",
       "      <td>113.8</td>\n",
       "      <td>114.15</td>\n",
       "      <td>6855</td>\n",
       "      <td>USD</td>\n",
       "      <td>58.875</td>\n",
       "      <td>3.10</td>\n",
       "      <td>3.10</td>\n",
       "    </tr>\n",
       "  </tbody>\n",
       "</table>\n",
       "</div>"
      ],
      "text/plain": [
       "         Date    Open    High     Low   Close  Volume Currency     avg   div  \\\n",
       "0  2000-01-03  122.25  124.00   116.1  116.50    6640      USD  62.000  5.75   \n",
       "1  2000-01-04  116.25  120.50  115.75  116.25    5492      USD  60.250  0.00   \n",
       "2  2000-01-05  115.00  121.00   115.0  118.60    6165      USD  60.500 -3.60   \n",
       "3  2000-01-06  119.00  121.40   116.5  116.85    5094      USD  60.700  2.15   \n",
       "4  2000-01-07  117.25  117.75   113.8  114.15    6855      USD  58.875  3.10   \n",
       "\n",
       "    dif  \n",
       "0  5.75  \n",
       "1  0.00  \n",
       "2 -3.60  \n",
       "3  2.15  \n",
       "4  3.10  "
      ]
     },
     "execution_count": 63,
     "metadata": {},
     "output_type": "execute_result"
    }
   ],
   "source": [
    "coffee[\"dif\"] = (coffee[\"Open\"] - coffee[\"Close\"])\n",
    "coffee.head()"
   ]
  },
  {
   "cell_type": "code",
   "execution_count": 64,
   "metadata": {},
   "outputs": [],
   "source": [
    "coffee_renamed = coffee.rename( \n",
    "    columns={\n",
    "        \"Open\":\"Abertura\",\n",
    "        \"High\":\"Alta\",\n",
    "        \"Low\":\"Baixa\",\n",
    "    }\n",
    ")"
   ]
  },
  {
   "cell_type": "code",
   "execution_count": 65,
   "metadata": {},
   "outputs": [
    {
     "data": {
      "text/html": [
       "<div>\n",
       "<style scoped>\n",
       "    .dataframe tbody tr th:only-of-type {\n",
       "        vertical-align: middle;\n",
       "    }\n",
       "\n",
       "    .dataframe tbody tr th {\n",
       "        vertical-align: top;\n",
       "    }\n",
       "\n",
       "    .dataframe thead th {\n",
       "        text-align: right;\n",
       "    }\n",
       "</style>\n",
       "<table border=\"1\" class=\"dataframe\">\n",
       "  <thead>\n",
       "    <tr style=\"text-align: right;\">\n",
       "      <th></th>\n",
       "      <th>Date</th>\n",
       "      <th>Abertura</th>\n",
       "      <th>Alta</th>\n",
       "      <th>Baixa</th>\n",
       "      <th>Close</th>\n",
       "      <th>Volume</th>\n",
       "      <th>Currency</th>\n",
       "      <th>avg</th>\n",
       "      <th>div</th>\n",
       "      <th>dif</th>\n",
       "    </tr>\n",
       "  </thead>\n",
       "  <tbody>\n",
       "    <tr>\n",
       "      <th>0</th>\n",
       "      <td>2000-01-03</td>\n",
       "      <td>122.25</td>\n",
       "      <td>124.00</td>\n",
       "      <td>116.1</td>\n",
       "      <td>116.50</td>\n",
       "      <td>6640</td>\n",
       "      <td>USD</td>\n",
       "      <td>62.000</td>\n",
       "      <td>5.75</td>\n",
       "      <td>5.75</td>\n",
       "    </tr>\n",
       "    <tr>\n",
       "      <th>1</th>\n",
       "      <td>2000-01-04</td>\n",
       "      <td>116.25</td>\n",
       "      <td>120.50</td>\n",
       "      <td>115.75</td>\n",
       "      <td>116.25</td>\n",
       "      <td>5492</td>\n",
       "      <td>USD</td>\n",
       "      <td>60.250</td>\n",
       "      <td>0.00</td>\n",
       "      <td>0.00</td>\n",
       "    </tr>\n",
       "    <tr>\n",
       "      <th>2</th>\n",
       "      <td>2000-01-05</td>\n",
       "      <td>115.00</td>\n",
       "      <td>121.00</td>\n",
       "      <td>115.0</td>\n",
       "      <td>118.60</td>\n",
       "      <td>6165</td>\n",
       "      <td>USD</td>\n",
       "      <td>60.500</td>\n",
       "      <td>-3.60</td>\n",
       "      <td>-3.60</td>\n",
       "    </tr>\n",
       "    <tr>\n",
       "      <th>3</th>\n",
       "      <td>2000-01-06</td>\n",
       "      <td>119.00</td>\n",
       "      <td>121.40</td>\n",
       "      <td>116.5</td>\n",
       "      <td>116.85</td>\n",
       "      <td>5094</td>\n",
       "      <td>USD</td>\n",
       "      <td>60.700</td>\n",
       "      <td>2.15</td>\n",
       "      <td>2.15</td>\n",
       "    </tr>\n",
       "    <tr>\n",
       "      <th>4</th>\n",
       "      <td>2000-01-07</td>\n",
       "      <td>117.25</td>\n",
       "      <td>117.75</td>\n",
       "      <td>113.8</td>\n",
       "      <td>114.15</td>\n",
       "      <td>6855</td>\n",
       "      <td>USD</td>\n",
       "      <td>58.875</td>\n",
       "      <td>3.10</td>\n",
       "      <td>3.10</td>\n",
       "    </tr>\n",
       "  </tbody>\n",
       "</table>\n",
       "</div>"
      ],
      "text/plain": [
       "         Date  Abertura    Alta   Baixa   Close  Volume Currency     avg  \\\n",
       "0  2000-01-03    122.25  124.00   116.1  116.50    6640      USD  62.000   \n",
       "1  2000-01-04    116.25  120.50  115.75  116.25    5492      USD  60.250   \n",
       "2  2000-01-05    115.00  121.00   115.0  118.60    6165      USD  60.500   \n",
       "3  2000-01-06    119.00  121.40   116.5  116.85    5094      USD  60.700   \n",
       "4  2000-01-07    117.25  117.75   113.8  114.15    6855      USD  58.875   \n",
       "\n",
       "    div   dif  \n",
       "0  5.75  5.75  \n",
       "1  0.00  0.00  \n",
       "2 -3.60 -3.60  \n",
       "3  2.15  2.15  \n",
       "4  3.10  3.10  "
      ]
     },
     "execution_count": 65,
     "metadata": {},
     "output_type": "execute_result"
    }
   ],
   "source": [
    "coffee_renamed.head()"
   ]
  },
  {
   "cell_type": "code",
   "execution_count": null,
   "metadata": {},
   "outputs": [],
   "source": []
  }
 ],
 "metadata": {
  "kernelspec": {
   "display_name": "Python 3.9.4 ('.env': venv)",
   "language": "python",
   "name": "python3"
  },
  "language_info": {
   "codemirror_mode": {
    "name": "ipython",
    "version": 3
   },
   "file_extension": ".py",
   "mimetype": "text/x-python",
   "name": "python",
   "nbconvert_exporter": "python",
   "pygments_lexer": "ipython3",
   "version": "3.9.4"
  },
  "orig_nbformat": 4,
  "vscode": {
   "interpreter": {
    "hash": "4cc8449d59291f609396fcda27a966bcc97c18185b0cb9824e90a5a13418e540"
   }
  }
 },
 "nbformat": 4,
 "nbformat_minor": 2
}
