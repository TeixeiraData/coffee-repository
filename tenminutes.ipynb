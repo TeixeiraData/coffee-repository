{
 "cells": [
  {
   "cell_type": "code",
   "execution_count": 2,
   "metadata": {},
   "outputs": [],
   "source": [
    "import numpy as np\n",
    "import pandas as pd"
   ]
  },
  {
   "cell_type": "markdown",
   "metadata": {},
   "source": [
    "Creation"
   ]
  },
  {
   "cell_type": "code",
   "execution_count": 3,
   "metadata": {},
   "outputs": [],
   "source": [
    "coffee = pd.read_csv(\"coffee.csv\")"
   ]
  },
  {
   "cell_type": "code",
   "execution_count": 4,
   "metadata": {},
   "outputs": [
    {
     "data": {
      "text/html": [
       "<div>\n",
       "<style scoped>\n",
       "    .dataframe tbody tr th:only-of-type {\n",
       "        vertical-align: middle;\n",
       "    }\n",
       "\n",
       "    .dataframe tbody tr th {\n",
       "        vertical-align: top;\n",
       "    }\n",
       "\n",
       "    .dataframe thead th {\n",
       "        text-align: right;\n",
       "    }\n",
       "</style>\n",
       "<table border=\"1\" class=\"dataframe\">\n",
       "  <thead>\n",
       "    <tr style=\"text-align: right;\">\n",
       "      <th></th>\n",
       "      <th>Date</th>\n",
       "      <th>Open</th>\n",
       "      <th>High</th>\n",
       "      <th>Low</th>\n",
       "      <th>Close</th>\n",
       "      <th>Volume</th>\n",
       "      <th>Currency</th>\n",
       "    </tr>\n",
       "  </thead>\n",
       "  <tbody>\n",
       "    <tr>\n",
       "      <th>0</th>\n",
       "      <td>2000-01-03</td>\n",
       "      <td>122.25</td>\n",
       "      <td>124.00</td>\n",
       "      <td>116.10</td>\n",
       "      <td>116.50</td>\n",
       "      <td>6640</td>\n",
       "      <td>USD</td>\n",
       "    </tr>\n",
       "    <tr>\n",
       "      <th>1</th>\n",
       "      <td>2000-01-04</td>\n",
       "      <td>116.25</td>\n",
       "      <td>120.50</td>\n",
       "      <td>115.75</td>\n",
       "      <td>116.25</td>\n",
       "      <td>5492</td>\n",
       "      <td>USD</td>\n",
       "    </tr>\n",
       "    <tr>\n",
       "      <th>2</th>\n",
       "      <td>2000-01-05</td>\n",
       "      <td>115.00</td>\n",
       "      <td>121.00</td>\n",
       "      <td>115.00</td>\n",
       "      <td>118.60</td>\n",
       "      <td>6165</td>\n",
       "      <td>USD</td>\n",
       "    </tr>\n",
       "    <tr>\n",
       "      <th>3</th>\n",
       "      <td>2000-01-06</td>\n",
       "      <td>119.00</td>\n",
       "      <td>121.40</td>\n",
       "      <td>116.50</td>\n",
       "      <td>116.85</td>\n",
       "      <td>5094</td>\n",
       "      <td>USD</td>\n",
       "    </tr>\n",
       "    <tr>\n",
       "      <th>4</th>\n",
       "      <td>2000-01-07</td>\n",
       "      <td>117.25</td>\n",
       "      <td>117.75</td>\n",
       "      <td>113.80</td>\n",
       "      <td>114.15</td>\n",
       "      <td>6855</td>\n",
       "      <td>USD</td>\n",
       "    </tr>\n",
       "    <tr>\n",
       "      <th>...</th>\n",
       "      <td>...</td>\n",
       "      <td>...</td>\n",
       "      <td>...</td>\n",
       "      <td>...</td>\n",
       "      <td>...</td>\n",
       "      <td>...</td>\n",
       "      <td>...</td>\n",
       "    </tr>\n",
       "    <tr>\n",
       "      <th>5678</th>\n",
       "      <td>2022-05-27</td>\n",
       "      <td>225.10</td>\n",
       "      <td>229.90</td>\n",
       "      <td>224.20</td>\n",
       "      <td>229.45</td>\n",
       "      <td>14248</td>\n",
       "      <td>USD</td>\n",
       "    </tr>\n",
       "    <tr>\n",
       "      <th>5679</th>\n",
       "      <td>2022-05-31</td>\n",
       "      <td>228.30</td>\n",
       "      <td>233.80</td>\n",
       "      <td>223.85</td>\n",
       "      <td>231.25</td>\n",
       "      <td>25579</td>\n",
       "      <td>USD</td>\n",
       "    </tr>\n",
       "    <tr>\n",
       "      <th>5680</th>\n",
       "      <td>2022-06-01</td>\n",
       "      <td>232.05</td>\n",
       "      <td>240.65</td>\n",
       "      <td>232.05</td>\n",
       "      <td>239.45</td>\n",
       "      <td>30339</td>\n",
       "      <td>USD</td>\n",
       "    </tr>\n",
       "    <tr>\n",
       "      <th>5681</th>\n",
       "      <td>2022-06-02</td>\n",
       "      <td>239.45</td>\n",
       "      <td>242.00</td>\n",
       "      <td>236.95</td>\n",
       "      <td>238.25</td>\n",
       "      <td>19679</td>\n",
       "      <td>USD</td>\n",
       "    </tr>\n",
       "    <tr>\n",
       "      <th>5682</th>\n",
       "      <td>2022-06-03</td>\n",
       "      <td>236.15</td>\n",
       "      <td>240.00</td>\n",
       "      <td>231.45</td>\n",
       "      <td>232.40</td>\n",
       "      <td>19089</td>\n",
       "      <td>USD</td>\n",
       "    </tr>\n",
       "  </tbody>\n",
       "</table>\n",
       "<p>5683 rows × 7 columns</p>\n",
       "</div>"
      ],
      "text/plain": [
       "            Date    Open    High     Low   Close  Volume Currency\n",
       "0     2000-01-03  122.25  124.00  116.10  116.50    6640      USD\n",
       "1     2000-01-04  116.25  120.50  115.75  116.25    5492      USD\n",
       "2     2000-01-05  115.00  121.00  115.00  118.60    6165      USD\n",
       "3     2000-01-06  119.00  121.40  116.50  116.85    5094      USD\n",
       "4     2000-01-07  117.25  117.75  113.80  114.15    6855      USD\n",
       "...          ...     ...     ...     ...     ...     ...      ...\n",
       "5678  2022-05-27  225.10  229.90  224.20  229.45   14248      USD\n",
       "5679  2022-05-31  228.30  233.80  223.85  231.25   25579      USD\n",
       "5680  2022-06-01  232.05  240.65  232.05  239.45   30339      USD\n",
       "5681  2022-06-02  239.45  242.00  236.95  238.25   19679      USD\n",
       "5682  2022-06-03  236.15  240.00  231.45  232.40   19089      USD\n",
       "\n",
       "[5683 rows x 7 columns]"
      ]
     },
     "execution_count": 4,
     "metadata": {},
     "output_type": "execute_result"
    }
   ],
   "source": [
    "coffee"
   ]
  },
  {
   "cell_type": "code",
   "execution_count": 5,
   "metadata": {},
   "outputs": [
    {
     "data": {
      "text/plain": [
       "Date         object\n",
       "Open        float64\n",
       "High        float64\n",
       "Low         float64\n",
       "Close       float64\n",
       "Volume        int64\n",
       "Currency     object\n",
       "dtype: object"
      ]
     },
     "execution_count": 5,
     "metadata": {},
     "output_type": "execute_result"
    }
   ],
   "source": [
    "coffee.dtypes"
   ]
  },
  {
   "cell_type": "markdown",
   "metadata": {},
   "source": [
    "modify Date field from object to date"
   ]
  },
  {
   "cell_type": "code",
   "execution_count": 9,
   "metadata": {},
   "outputs": [],
   "source": [
    "coffee['new_date'] = pd.to_datetime(coffee['Date'])"
   ]
  },
  {
   "cell_type": "code",
   "execution_count": 10,
   "metadata": {},
   "outputs": [
    {
     "data": {
      "text/plain": [
       "Date                object\n",
       "Open               float64\n",
       "High               float64\n",
       "Low                float64\n",
       "Close              float64\n",
       "Volume               int64\n",
       "Currency            object\n",
       "new_date    datetime64[ns]\n",
       "dtype: object"
      ]
     },
     "execution_count": 10,
     "metadata": {},
     "output_type": "execute_result"
    }
   ],
   "source": [
    "coffee.dtypes"
   ]
  },
  {
   "cell_type": "code",
   "execution_count": null,
   "metadata": {},
   "outputs": [],
   "source": []
  }
 ],
 "metadata": {
  "kernelspec": {
   "display_name": "Python 3.9.4 ('.env': venv)",
   "language": "python",
   "name": "python3"
  },
  "language_info": {
   "codemirror_mode": {
    "name": "ipython",
    "version": 3
   },
   "file_extension": ".py",
   "mimetype": "text/x-python",
   "name": "python",
   "nbconvert_exporter": "python",
   "pygments_lexer": "ipython3",
   "version": "3.9.4"
  },
  "orig_nbformat": 4,
  "vscode": {
   "interpreter": {
    "hash": "4cc8449d59291f609396fcda27a966bcc97c18185b0cb9824e90a5a13418e540"
   }
  }
 },
 "nbformat": 4,
 "nbformat_minor": 2
}
